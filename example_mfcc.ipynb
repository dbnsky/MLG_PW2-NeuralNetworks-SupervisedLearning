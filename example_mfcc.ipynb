{
 "cells": [
  {
   "cell_type": "code",
   "execution_count": 68,
   "metadata": {},
   "outputs": [],
   "source": [
    "import numpy as np\n",
    "from matplotlib import pyplot as pl\n",
    "import os\n",
    "import scipy.io.wavfile as wav\n",
    "import sys\n",
    "from python_speech_features import mfcc\n",
    "import mlp_backprop_momentum as mlp\n",
    "\n",
    "%matplotlib inline"
   ]
  },
  {
   "cell_type": "code",
   "execution_count": 69,
   "metadata": {},
   "outputs": [],
   "source": [
    "PATH = '/home/nums/Documents/MLG/lab04/vowels/'"
   ]
  },
  {
   "cell_type": "code",
   "execution_count": 70,
   "metadata": {},
   "outputs": [],
   "source": [
    "# Empty array to store dataset trough iteration (sounds)\n",
    "def create_dataset():\n",
    "    dataset = np.array([], dtype=float).reshape(0,14)\n",
    "    \n",
    "    for filename in os.listdir(PATH):\n",
    "        type = -1\n",
    "        if(filename.startswith('nam')): #h humain\n",
    "            type = 0\n",
    "        elif(filename.startswith('sam')): #h syn\n",
    "            type = 100\n",
    "        elif (filename.startswith('naf')): #f humain\n",
    "            type = 200\n",
    "        elif (filename.startswith('saf')): #f syn\n",
    "            type = 300\n",
    "        elif (filename.startswith('nk')): #k humain\n",
    "            type = 400\n",
    "        elif (filename.startswith('sk5')): #k syn\n",
    "            type = 500\n",
    "        else:\n",
    "            type = -1\n",
    "        \n",
    "        if(type == 0 or type == 200):\n",
    "            sample_rate, X = wav.read(os.path.join(PATH, filename))\n",
    "            coef = mfcc(X, samplerate=sample_rate, nfft=1024)\n",
    "            coef = np.insert(coef,13,type,axis=1)\n",
    "            dataset = np.append(dataset, coef,axis=0)\n",
    "         \n",
    "    return dataset\n",
    "        \n",
    "           "
   ]
  },
  {
   "cell_type": "code",
   "execution_count": 71,
   "metadata": {},
   "outputs": [],
   "source": [
    "dataset = create_dataset()"
   ]
  },
  {
   "cell_type": "code",
   "execution_count": 72,
   "metadata": {},
   "outputs": [],
   "source": [
    "def split_dataset(dataset, n_parts=5):\n",
    "    n_rows = dataset.shape[0]\n",
    "    index_all = np.arange(n_rows)\n",
    "    np.random.shuffle(index_all)\n",
    "    parts = []\n",
    "    current_start = 0\n",
    "    for p in np.arange(n_parts):\n",
    "        current_end = current_start + int(np.floor(n_rows / (n_parts-p)))\n",
    "        parts.append(dataset[index_all[current_start:current_end],:])\n",
    "        n_rows -= current_end - current_start\n",
    "        current_start = current_end\n",
    "    return parts"
   ]
  },
  {
   "cell_type": "code",
   "execution_count": 73,
   "metadata": {},
   "outputs": [
    {
     "data": {
      "text/plain": [
       "[array([[ 2.06947800e+01, -1.75577297e+00, -1.94706308e+01, ...,\n",
       "          1.05623024e+00, -8.35722240e+00,  0.00000000e+00],\n",
       "        [ 2.11509877e+01, -2.78638018e+00,  1.34757731e+00, ...,\n",
       "          4.37289355e+00,  5.70636858e+00,  2.00000000e+02],\n",
       "        [ 2.17288568e+01,  4.29038447e+00, -1.41330150e+01, ...,\n",
       "         -1.84837044e+01, -8.86421320e+00,  2.00000000e+02],\n",
       "        ...,\n",
       "        [ 2.09767220e+01,  8.91287311e-02, -2.80318616e+00, ...,\n",
       "         -2.35442014e+00, -2.22132030e+00,  2.00000000e+02],\n",
       "        [ 2.00765157e+01, -1.94813820e+00,  5.98853570e+00, ...,\n",
       "          1.28343089e+01,  2.44315395e+00,  0.00000000e+00],\n",
       "        [ 2.17982127e+01, -3.28886001e+00, -1.34414951e+01, ...,\n",
       "         -5.39740659e+00,  2.24799837e+00,  2.00000000e+02]]),\n",
       " array([[ 21.46290532,   5.93090566,  -8.75655821, ...,  -7.90612243,\n",
       "         -22.69180465, 200.        ],\n",
       "        [ 20.78365943,  10.46344296,  -7.33327428, ...,  -5.0562989 ,\n",
       "           7.77723836, 200.        ],\n",
       "        [ 21.5097914 ,  -1.01228077,  -9.03926276, ...,  -0.46975581,\n",
       "           0.77165672, 200.        ],\n",
       "        ...,\n",
       "        [ 20.58053776,   1.47797512,  -6.1640286 , ..., -16.48176426,\n",
       "          -5.59692827, 200.        ],\n",
       "        [ 21.22327104,  -9.1427465 ,  -3.15357265, ..., -22.08415912,\n",
       "         -12.13723302,   0.        ],\n",
       "        [ 20.3315297 ,   9.25756722,  -2.95400225, ...,   1.71114352,\n",
       "          18.89463527,   0.        ]]),\n",
       " array([[ 1.95121537e+01,  2.36133599e+00,  8.96887410e+00, ...,\n",
       "         -8.50518185e+00,  2.76614368e+01,  0.00000000e+00],\n",
       "        [ 2.01826450e+01,  9.88622645e-03, -1.48877017e+01, ...,\n",
       "          1.12969991e+01, -5.25869334e+00,  0.00000000e+00],\n",
       "        [ 1.85064253e+01,  1.32791121e+01, -5.35532159e+00, ...,\n",
       "         -8.12105668e+00,  7.30999663e+00,  0.00000000e+00],\n",
       "        ...,\n",
       "        [ 1.89137308e+01,  3.77380197e+00, -8.10081340e+00, ...,\n",
       "         -8.77988916e+00, -1.80855993e+01,  2.00000000e+02],\n",
       "        [ 1.95592978e+01,  3.38453687e-01,  8.72419981e+00, ...,\n",
       "          1.14936665e+01,  2.37219249e+00,  2.00000000e+02],\n",
       "        [ 1.97491640e+01,  9.39928110e+00, -2.12047636e+01, ...,\n",
       "          1.88550456e+00,  1.03855917e+01,  0.00000000e+00]]),\n",
       " array([[ 20.2552948 ,   3.33605224,  -9.25457159, ...,  -3.65074771,\n",
       "          -5.1647665 , 200.        ],\n",
       "        [ 21.56872237,  -0.71352847, -11.71930281, ...,  14.93898366,\n",
       "          -3.13250956, 200.        ],\n",
       "        [ 20.33754283,   5.91929652,  -7.45141152, ..., -26.46024414,\n",
       "         -14.41599531, 200.        ],\n",
       "        ...,\n",
       "        [ 20.24271161,  13.34795463,  -6.04176917, ..., -34.06644358,\n",
       "          27.41736705, 200.        ],\n",
       "        [ 19.76197891,   7.33838998,  -1.70446526, ..., -19.24638631,\n",
       "         -10.4998938 , 200.        ],\n",
       "        [ 20.61784611,   9.4586635 , -15.51337388, ..., -13.04412378,\n",
       "         -31.83172494, 200.        ]]),\n",
       " array([[ 21.19959573,  15.69520561, -11.34733107, ...,   6.82076462,\n",
       "          -5.57024108, 200.        ],\n",
       "        [ 19.4988284 ,   3.4326055 ,  16.14760128, ..., -14.7136935 ,\n",
       "          28.72839053,   0.        ],\n",
       "        [ 20.4794398 ,   5.01375112,  -7.64224577, ...,  -3.25113178,\n",
       "          10.18648416, 200.        ],\n",
       "        ...,\n",
       "        [ 21.23720569,  13.38745173, -23.47468528, ...,   5.11166385,\n",
       "          13.54306658,   0.        ],\n",
       "        [ 20.43660527,   1.35285636,  -0.31942705, ...,  -1.40226504,\n",
       "           8.39058298, 200.        ],\n",
       "        [ 21.75946504,   0.5546907 , -11.66014028, ..., -11.78962641,\n",
       "          -4.40469067, 200.        ]])]"
      ]
     },
     "execution_count": 73,
     "metadata": {},
     "output_type": "execute_result"
    }
   ],
   "source": [
    "split_dataset(create_dataset(),5)"
   ]
  },
  {
   "cell_type": "code",
   "execution_count": 74,
   "metadata": {},
   "outputs": [],
   "source": [
    "def k_fold_cross_validation(mlp, dataset, K=5, learning_rate=0.01, momentum=0.7, epochs=100):\n",
    "    MSE_train_mean = 0.0\n",
    "    MSE_test_mean = 0.0\n",
    "\n",
    "    parts = split_dataset(dataset, K)\n",
    "    \n",
    "    for k in np.arange(K):\n",
    "        mlp.init_weights()\n",
    "        \n",
    "        training_parts = set(np.arange(K))\n",
    "        training_parts.remove(k)\n",
    "        dataset_train = np.concatenate([parts[i] for i in list(training_parts)])\n",
    "        dataset_test = parts[k]\n",
    "\n",
    "        input_data = dataset_train[:,0:nn.n_inputs]\n",
    "        output_data = dataset_train[:,nn.n_inputs:(nn.n_inputs+nn.n_outputs)]\n",
    "        input_data_test = dataset_test[:,0:nn.n_inputs]\n",
    "        output_data_test = dataset_test[:,nn.n_inputs:(nn.n_inputs+nn.n_outputs)]\n",
    "        \n",
    "        MSE_train = mlp.fit((input_data, output_data),\n",
    "                            learning_rate=learning_rate, momentum=momentum, epochs=epochs)\n",
    "        temp, _ = mlp.compute_MSE((input_data, output_data))\n",
    "        MSE_train_mean += temp\n",
    "        temp, _ = mlp.compute_MSE((input_data_test, output_data_test))\n",
    "        MSE_test_mean += temp\n",
    "\n",
    "    return (MSE_train_mean / K, MSE_test_mean / K)"
   ]
  },
  {
   "cell_type": "code",
   "execution_count": 75,
   "metadata": {},
   "outputs": [],
   "source": [
    "N_SPLITS = 10\n",
    "EPOCHS = 20\n",
    "N_NEURONS = 2\n",
    "K = 5\n",
    "LEARNING_RATE = 0.001\n",
    "MOMENTUM = 0.7\n",
    "DATA_PARAMS = np.arange(0, 1)"
   ]
  },
  {
   "cell_type": "code",
   "execution_count": 76,
   "metadata": {},
   "outputs": [
    {
     "name": "stdout",
     "output_type": "stream",
     "text": [
      "Testing dataset\n",
      "..........10  tests done\n"
     ]
    }
   ],
   "source": [
    "MSE_train = np.zeros((len(DATA_PARAMS), N_SPLITS))\n",
    "MSE_test = np.zeros((len(DATA_PARAMS), N_SPLITS))\n",
    "nn = mlp.MLP([2,N_NEURONS,1], 'tanh')\n",
    "\n",
    "print('Testing dataset')\n",
    "dataset = create_dataset()\n",
    "\n",
    "for d in np.arange(N_SPLITS):                                       # looping the splits\n",
    "    sys.stdout.write('.')\n",
    "\n",
    "    temp1, temp2 = k_fold_cross_validation(nn,\n",
    "                                           dataset,\n",
    "                                           K=K,\n",
    "                                           learning_rate=LEARNING_RATE,\n",
    "                                           momentum=MOMENTUM,\n",
    "                                           epochs=EPOCHS)\n",
    "    MSE_train[0,d] = temp1\n",
    "    MSE_test[0,d] = temp2\n",
    "\n",
    "print(N_SPLITS, ' tests done')"
   ]
  },
  {
   "cell_type": "code",
   "execution_count": 77,
   "metadata": {},
   "outputs": [],
   "source": [
    "datasetH = np.array([], dtype=float).reshape(0,14)\n",
    "datasetF = np.array([], dtype=float).reshape(0,14)\n",
    "\n",
    "datasetH = np.vstack((datasetH, dataset[dataset[:,13] == 0])) #h humain\n",
    "datasetF = np.vstack((datasetF, dataset[dataset[:,13] == 200])) #f humain       "
   ]
  },
  {
   "cell_type": "code",
   "execution_count": 78,
   "metadata": {},
   "outputs": [
    {
     "data": {
      "image/png": "[encoded data removed]",
      "text/plain": [
       "<matplotlib.figure.Figure at 0x7fa497b2cef0>"
      ]
     },
     "metadata": {},
     "output_type": "display_data"
    }
   ],
   "source": [
    "pl.figure(figsize=(15,4))\n",
    "pl.subplot(1,2,1)\n",
    "pl.boxplot(datasetH)\n",
    "pl.title('Homme')\n",
    "pl.grid()\n",
    "pl.subplot(1,2,2)\n",
    "pl.boxplot(datasetF)\n",
    "pl.title('Femme')\n",
    "pl.grid()"
   ]
  }
 ],
 "metadata": {
  "kernelspec": {
   "display_name": "Python 3",
   "language": "python",
   "name": "python3"
  },
  "language_info": {
   "codemirror_mode": {
    "name": "ipython",
    "version": 3
   },
   "file_extension": ".py",
   "mimetype": "text/x-python",
   "name": "python",
   "nbconvert_exporter": "python",
   "pygments_lexer": "ipython3",
   "version": "3.6.5"
  }
 },
 "nbformat": 4,
 "nbformat_minor": 1
}
