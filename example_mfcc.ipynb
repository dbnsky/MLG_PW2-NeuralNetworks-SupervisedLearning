{
 "cells": [
  {
   "cell_type": "code",
   "execution_count": 1,
   "metadata": {},
   "outputs": [],
   "source": [
    "import numpy as np\n",
    "from matplotlib import pyplot as pl\n",
    "import os\n",
    "import scipy.io.wavfile as wav\n",
    "import sys\n",
    "from python_speech_features import mfcc\n",
    "import mlp_backprop_momentum as mlp\n",
    "\n",
    "%matplotlib inline"
   ]
  },
  {
   "cell_type": "code",
   "execution_count": 2,
   "metadata": {},
   "outputs": [],
   "source": [
    "PATH = '/home/nums/Documents/MLG/lab04/vowels/'"
   ]
  },
  {
   "cell_type": "markdown",
   "metadata": {},
   "source": []
  },
  {
   "cell_type": "code",
   "execution_count": 54,
   "metadata": {},
   "outputs": [],
   "source": [
    "# Empty array to store dataset trough iteration (sounds)\n",
    "def create_dataset():\n",
    "    dataset = np.array([], dtype=float).reshape(0,14)\n",
    "    \n",
    "    for filename in os.listdir(PATH):\n",
    "        type = -1\n",
    "        if(filename.startswith('nam') or filename.startswith('sam')):\n",
    "            type = 0       \n",
    "        elif (filename.startswith('naf') or filename.startswith('saf')):\n",
    "            type = 100\n",
    "        elif (filename.startswith('nk5') or filename.startswith('sk5')):\n",
    "            type = 200\n",
    "        else:\n",
    "            type = 400\n",
    "            \n",
    "        #print(\"type:\")\n",
    "        #print(type)\n",
    "        \n",
    "        if(type < 300):\n",
    "            sample_rate, X = wav.read(os.path.join(PATH, filename))\n",
    "            coef = mfcc(X, samplerate=sample_rate, nfft=1024)\n",
    "            coef = np.insert(coef,13,type,axis=1)\n",
    "            dataset = np.append(dataset, coef,axis=0)\n",
    "         \n",
    "    return dataset\n",
    "        \n",
    "           "
   ]
  },
  {
   "cell_type": "code",
   "execution_count": 56,
   "metadata": {},
   "outputs": [],
   "source": [
    "dataset = create_dataset()"
   ]
  },
  {
   "cell_type": "code",
   "execution_count": 4,
   "metadata": {},
   "outputs": [],
   "source": [
    "def split_dataset(dataset, n_parts=5):\n",
    "    n_rows = dataset.shape[0]\n",
    "    index_all = np.arange(n_rows)\n",
    "    np.random.shuffle(index_all)\n",
    "    parts = []\n",
    "    current_start = 0\n",
    "    for p in np.arange(n_parts):\n",
    "        current_end = current_start + int(np.floor(n_rows / (n_parts-p)))\n",
    "        parts.append(dataset[index_all[current_start:current_end],:])\n",
    "        n_rows -= current_end - current_start\n",
    "        current_start = current_end\n",
    "    return parts"
   ]
  },
  {
   "cell_type": "code",
   "execution_count": 6,
   "metadata": {},
   "outputs": [
    {
     "data": {
      "text/plain": [
       "[array([[ 19.96419654,   3.08637871,   1.82160203, ..., -12.2958531 ,\n",
       "          -6.90883624,   1.        ],\n",
       "        [ 20.98702346,   4.44860818, -28.74564813, ...,  -2.50617629,\n",
       "          -0.66228456,   1.        ],\n",
       "        [ 20.4296807 ,  -3.66743698, -17.36836235, ...,   0.34547415,\n",
       "          -7.92108741,   0.        ],\n",
       "        ...,\n",
       "        [ 20.30452847,   3.88024513,  -3.92595527, ..., -12.05907794,\n",
       "          -7.36313278,   1.        ],\n",
       "        [ 20.81490363,  -3.30749537,  -9.72703567, ...,   8.84011162,\n",
       "          21.80880992,   0.        ],\n",
       "        [ 20.1110233 ,  18.77700281, -20.01330519, ...,   2.00961257,\n",
       "          16.57537477,   0.        ]]),\n",
       " array([[ 21.45754789,  18.21439931, -14.97303379, ...,  -0.59923668,\n",
       "          -9.52427437,   1.        ],\n",
       "        [ 21.03784896,  -2.5456287 ,  -1.30433176, ...,   0.36633416,\n",
       "           6.66067082,   1.        ],\n",
       "        [ 19.54831095,   8.5531215 , -19.41643523, ...,   5.18824365,\n",
       "           0.96861052,   1.        ],\n",
       "        ...,\n",
       "        [ 20.7213036 ,  -1.93237205, -16.04158314, ...,  -6.15844212,\n",
       "          -5.17673525,   0.        ],\n",
       "        [ 20.75316361,   7.59057981, -24.71958959, ...,  -0.28387994,\n",
       "         -17.93399449,   0.        ],\n",
       "        [ 19.91220771,   4.24542068, -12.24379238, ...,  -9.85564001,\n",
       "          11.78636756,   0.        ]]),\n",
       " array([[ 21.27387631,  10.12839323, -12.72429904, ..., -26.29244488,\n",
       "         -27.07714272,   1.        ],\n",
       "        [ 22.0645913 ,  -4.26694202, -15.93498086, ...,  -0.79113957,\n",
       "           3.26891461,   1.        ],\n",
       "        [ 21.13706541,  11.79237872, -18.66832863, ..., -15.39659027,\n",
       "         -25.07790367,   1.        ],\n",
       "        ...,\n",
       "        [ 14.63029671,   4.36751065,   0.96140047, ...,  -2.88836331,\n",
       "          -1.2568217 ,   0.        ],\n",
       "        [ 20.35996513,   8.00988371, -31.73277605, ...,  -9.06331867,\n",
       "          -4.24309855,   1.        ],\n",
       "        [ 21.46667258,   0.19174059, -10.4762157 , ...,  10.48155952,\n",
       "           5.13567063,   1.        ]]),\n",
       " array([[ 21.15590092,   5.74390127,  -8.23082476, ...,  -5.59382877,\n",
       "         -24.16571553,   1.        ],\n",
       "        [ 20.68376881,  23.48529742, -15.50643084, ...,  -1.85367202,\n",
       "          -5.42759365,   1.        ],\n",
       "        [ 21.37566634,   1.513139  ,  -8.52344927, ...,  -0.80688329,\n",
       "          -7.66061985,   1.        ],\n",
       "        ...,\n",
       "        [ 20.74406052,   0.91920166, -17.30742226, ...,  11.87627744,\n",
       "           2.11920513,   0.        ],\n",
       "        [ 20.18520987,   5.22951263,   8.69297081, ..., -17.86557177,\n",
       "          23.30671298,   0.        ],\n",
       "        [ 20.81067172,  17.74404907, -20.83369174, ...,   4.12972023,\n",
       "         -19.31545263,   1.        ]]),\n",
       " array([[ 20.26596021,   1.77764628,  -7.45300339, ..., -24.11422922,\n",
       "           4.72291134,   0.        ],\n",
       "        [ 21.11107841,  23.01201605, -14.63104763, ...,  -5.01097208,\n",
       "           9.96360903,   0.        ],\n",
       "        [ 20.00558163,  10.87321277,  17.81362697, ...,   2.85177226,\n",
       "           1.05917672,   1.        ],\n",
       "        ...,\n",
       "        [ 21.10101414,  31.26347167, -29.30648814, ...,   0.43128164,\n",
       "         -12.12600024,   1.        ],\n",
       "        [ 19.78790228,   8.12791419, -17.36764337, ...,  11.46331336,\n",
       "          17.66165321,   0.        ],\n",
       "        [ 19.95559497,  14.07274307,   0.45773169, ...,  10.30717842,\n",
       "          -4.1633456 ,   1.        ]])]"
      ]
     },
     "execution_count": 6,
     "metadata": {},
     "output_type": "execute_result"
    }
   ],
   "source": [
    "split_dataset(create_dataset(),5)"
   ]
  },
  {
   "cell_type": "code",
   "execution_count": 5,
   "metadata": {},
   "outputs": [],
   "source": [
    "def k_fold_cross_validation(mlp, dataset, K=5, learning_rate=0.01, momentum=0.7, epochs=100):\n",
    "    MSE_train_mean = 0.0\n",
    "    MSE_test_mean = 0.0\n",
    "\n",
    "    parts = split_dataset(dataset, K)\n",
    "    \n",
    "    for k in np.arange(K):\n",
    "        mlp.init_weights()\n",
    "        \n",
    "        training_parts = set(np.arange(K))\n",
    "        training_parts.remove(k)\n",
    "        dataset_train = np.concatenate([parts[i] for i in list(training_parts)])\n",
    "        dataset_test = parts[k]\n",
    "\n",
    "        input_data = dataset_train[:,0:nn.n_inputs]\n",
    "        output_data = dataset_train[:,nn.n_inputs:(nn.n_inputs+nn.n_outputs)]\n",
    "        input_data_test = dataset_test[:,0:nn.n_inputs]\n",
    "        output_data_test = dataset_test[:,nn.n_inputs:(nn.n_inputs+nn.n_outputs)]\n",
    "        \n",
    "        MSE_train = mlp.fit((input_data, output_data),\n",
    "                            learning_rate=learning_rate, momentum=momentum, epochs=epochs)\n",
    "        temp, _ = mlp.compute_MSE((input_data, output_data))\n",
    "        MSE_train_mean += temp\n",
    "        temp, _ = mlp.compute_MSE((input_data_test, output_data_test))\n",
    "        MSE_test_mean += temp\n",
    "\n",
    "    return (MSE_train_mean / K, MSE_test_mean / K)"
   ]
  },
  {
   "cell_type": "code",
   "execution_count": 6,
   "metadata": {},
   "outputs": [],
   "source": [
    "N_SPLITS = 10\n",
    "EPOCHS = 20\n",
    "N_NEURONS = 2\n",
    "K = 5\n",
    "LEARNING_RATE = 0.001\n",
    "MOMENTUM = 0.7\n",
    "DATA_PARAMS = np.arange(0, 1)"
   ]
  },
  {
   "cell_type": "code",
   "execution_count": 18,
   "metadata": {},
   "outputs": [
    {
     "name": "stdout",
     "output_type": "stream",
     "text": [
      "Testing dataset\n",
      "..........10  tests done\n"
     ]
    }
   ],
   "source": [
    "MSE_train = np.zeros((len(DATA_PARAMS), N_SPLITS))\n",
    "MSE_test = np.zeros((len(DATA_PARAMS), N_SPLITS))\n",
    "nn = mlp.MLP([2,N_NEURONS,1], 'tanh')\n",
    "\n",
    "print('Testing dataset')\n",
    "dataset = create_dataset()\n",
    "\n",
    "for d in np.arange(N_SPLITS):                                       # looping the splits\n",
    "    sys.stdout.write('.')\n",
    "\n",
    "    temp1, temp2 = k_fold_cross_validation(nn,\n",
    "                                           dataset,\n",
    "                                           K=K,\n",
    "                                           learning_rate=LEARNING_RATE,\n",
    "                                           momentum=MOMENTUM,\n",
    "                                           epochs=EPOCHS)\n",
    "    MSE_train[0,d] = temp1\n",
    "    MSE_test[0,d] = temp2\n",
    "\n",
    "print(N_SPLITS, ' tests done')"
   ]
  },
  {
   "cell_type": "code",
   "execution_count": 66,
   "metadata": {},
   "outputs": [
    {
     "name": "stdout",
     "output_type": "stream",
     "text": [
      "[ 19.83859591  11.82569754 -35.2035731  -13.97026707   9.65975349\n",
      " -18.21720593 -13.75524441   6.30103559  31.52451406  24.80356174\n",
      " -19.16945598 -19.83944044   1.66385365   0.        ]\n"
     ]
    }
   ],
   "source": [
    "datasetH = np.array([], dtype=float).reshape(0,14)\n",
    "datasetF = np.array([], dtype=float).reshape(0,14)\n",
    "\n",
    "datasetH = np.vstack((datasetH, dataset[dataset[:,13] == 0]))\n",
    "datasetF = np.vstack((datasetF, dataset[dataset[:,13] == 100]))\n",
    "\n",
    "print(datasetH[0])\n",
    "        "
   ]
  },
  {
   "cell_type": "code",
   "execution_count": 65,
   "metadata": {},
   "outputs": [
    {
     "data": {
      "image/png": "[encoded data removed]",
      "text/plain": [
       "<matplotlib.figure.Figure at 0x7fa497a5ef60>"
      ]
     },
     "metadata": {},
     "output_type": "display_data"
    }
   ],
   "source": [
    "pl.figure(figsize=(15,4))\n",
    "pl.subplot(1,2,1)\n",
    "pl.boxplot(datasetH)\n",
    "pl.title('Homme')\n",
    "pl.grid()\n",
    "pl.subplot(1,2,2)\n",
    "pl.boxplot(datasetF)\n",
    "pl.title('Femme')\n",
    "pl.grid()\n"
   ]
  },
  {
   "cell_type": "code",
   "execution_count": 18,
   "metadata": {},
   "outputs": [],
   "source": [
    "from python_speech_features import mfcc"
   ]
  },
  {
   "cell_type": "code",
   "execution_count": 24,
   "metadata": {},
   "outputs": [
    {
     "name": "stdout",
     "output_type": "stream",
     "text": [
      "[[ 19.36503542  16.34211171  -5.65565539 -20.96351122  -0.75445754\n",
      "  -15.12912201  16.58647045  28.00034188 -17.22224266 -32.39525105\n",
      "   11.28234057 -16.79879122  -7.9394457 ]\n",
      " [ 20.08652687  18.34431575  -7.33921498 -25.44367647  -4.0749357\n",
      "  -19.22543447  18.96544989  19.89387591 -19.19940488 -34.14943069\n",
      "    8.67262567 -16.72029323 -11.68722449]\n",
      " [ 20.46388133  20.07488033  -9.96018428 -28.91658557  -0.26448121\n",
      "  -20.79430509  19.10807193  22.27466856 -17.69270288 -34.28853482\n",
      "   12.00594013 -13.66305608  -9.62004755]\n",
      " [ 21.02560478  19.42326745 -13.41616506 -25.11513686  -1.4811129\n",
      "  -16.90790321  23.67588395  23.32588409 -13.09358437 -35.19386476\n",
      "   11.55288792 -11.49781566  -6.74603918]\n",
      " [ 21.40762266  18.2437834  -16.10061197 -23.88152156  -7.14075923\n",
      "  -17.84666167  22.63223639  21.64091839 -13.45673529 -38.13061058\n",
      "    6.30279588 -11.15904768  -5.85439623]\n",
      " [ 21.58143855  20.32797945 -16.01396007 -27.58519749  -3.28723264\n",
      "  -20.02236807  19.32388219  26.11556472 -14.18182175 -35.80207174\n",
      "   13.75288866 -14.88951352  -4.36692365]\n",
      " [ 21.54953453  17.61228903 -14.823325   -22.84582784  -3.9068203\n",
      "  -15.01310383  25.91397392  26.49614383 -14.64451313 -26.85900984\n",
      "   11.76294927 -13.05556983  -9.21350923]\n",
      " [ 21.38052936  14.57256565 -13.87836215 -21.46261467  -6.48077881\n",
      "  -16.75836548  21.24735143  16.57058911 -15.65715435 -29.90485507\n",
      "    9.99220086 -15.91902652  -7.72816703]\n",
      " [ 21.10510492  13.90240449 -12.53212995 -20.78288581  -3.48832314\n",
      "  -18.3746428   23.37918638  20.76844094 -14.85801077 -28.10195678\n",
      "    9.35713698 -15.17232299  -8.30675981]\n",
      " [ 20.82034834  16.22879113 -10.31512593 -24.4009778   -2.75615792\n",
      "  -18.48414345  17.7312167   22.80000683 -19.47824096 -32.94088267\n",
      "   16.29288355 -25.979402    -7.98838446]\n",
      " [ 20.64648876  16.4212708   -9.50771484 -20.66160679  -1.4859905\n",
      "  -18.6704291   18.87916757  26.51370861 -19.55860219 -30.77387448\n",
      "   18.82205261 -17.88127797 -13.98970481]\n",
      " [ 20.66598143  16.37995778  -7.13236992 -20.51926164  -1.74827297\n",
      "  -16.22787576  19.24724168  25.28502526 -19.85891263 -32.70611936\n",
      "   21.28262802 -13.28368664 -15.8284281 ]\n",
      " [ 20.63813714  13.62124659  -8.71589894 -18.60063521  -8.57240029\n",
      "  -14.58870072  15.90080918   8.45878783 -16.10039073 -29.87921151\n",
      "   10.34279644 -14.87065089 -13.18715473]\n",
      " [ 20.67510565  15.88047588  -7.18821792 -22.30088978  -4.58333734\n",
      "  -14.62667461  13.93132323  18.61565376 -13.91398187 -32.47620916\n",
      "   22.21170942 -16.45695347 -15.5845258 ]\n",
      " [ 20.71591473  15.70176344  -7.99440216 -19.30315348  -5.05209467\n",
      "  -10.15347399  16.90049784  21.93864417 -12.87021346 -31.79378502\n",
      "   24.18576568 -17.4293531  -15.4689036 ]\n",
      " [ 20.61391345  13.31662941  -7.65618824 -17.33226755 -11.54408937\n",
      "  -10.22102869  14.72438011  11.91615262 -18.66474428 -31.9741884\n",
      "   22.36905227 -19.19832937 -13.71559676]\n",
      " [ 20.45733973  13.92793633  -7.08291821 -18.39640576  -9.78233057\n",
      "  -10.33130681  11.90400903  17.56291759 -20.81388153 -34.50896903\n",
      "   26.17941067 -18.80727956 -19.00174812]\n",
      " [ 20.49192966  14.38167291  -8.16009289 -15.08468778  -6.96866179\n",
      "  -10.40944935  12.93327944  17.79754223 -15.34486651 -28.7097102\n",
      "   22.11099706 -15.18153003 -17.78577526]\n",
      " [ 20.628271    12.38752066 -12.22195094 -16.7192373  -13.13474257\n",
      "  -11.57591221   1.76352336   4.16424732 -16.80596156 -31.09593668\n",
      "   13.63839928 -21.06069    -23.32767877]\n",
      " [ 20.78001433  10.70111273 -12.99350433 -16.20256082 -16.21333572\n",
      "   -9.89521472   2.92358371  10.07986359 -15.67698975 -33.264795\n",
      "   17.01712629 -21.71023907 -27.85827777]\n",
      " [ 20.8943039   11.31061596  -9.82680497 -12.84385738 -13.78178731\n",
      "   -2.39719879   6.0973492   13.96747981  -4.10815171 -28.73644329\n",
      "   27.55274835 -18.71249594 -25.37387918]\n",
      " [ 20.99813155  10.08622436  -9.28020194 -17.37169727 -16.05622044\n",
      "   -3.47762861  -1.77108517   9.77616396  -4.36491927 -28.92898353\n",
      "   25.37793063 -24.69845641 -28.40976874]\n",
      " [ 21.27387631  10.12839323 -12.72429904 -15.78557956 -17.59660456\n",
      "   -6.55783477  -7.16056082   1.08666643  -5.09698698 -19.77716625\n",
      "   15.31388889 -26.29244488 -27.07714272]\n",
      " [ 21.45004774   8.64292884 -12.17944397 -14.84693827 -20.67250372\n",
      "   -4.10781261  -5.62768787   3.53716665  -2.55933066 -14.15276296\n",
      "   19.02024602 -26.93598068 -30.3652979 ]\n",
      " [ 21.44337482   7.39897677 -10.9727076  -11.43116797 -21.49017752\n",
      "   -0.07732448  -2.7672208    2.51287863   0.14038942  -6.91241794\n",
      "   17.67258601 -22.94349512 -25.26371455]\n",
      " [ 21.31102241   4.13270512 -10.22852636 -13.75741977 -23.69676672\n",
      "   -9.90203538 -13.29619388  -2.44054522  -7.12193358 -10.22735478\n",
      "    6.63500816 -27.54875451 -25.25833206]\n",
      " [ 21.14961836   3.51840142  -5.00634256  -9.28335299 -19.58523185\n",
      "   -8.45477003 -16.65687662   2.80457466   0.71393102   0.44084732\n",
      "   16.39347219 -23.81131087 -20.1715486 ]\n",
      " [ 20.82295938   3.32874642  -1.83783566  -5.45943756 -19.74382094\n",
      "  -12.06996433 -15.97399231   1.46348324  -3.38075338   3.03280442\n",
      "   16.07106928 -25.0608724  -17.88421831]\n",
      " [ 19.78839556   5.00706023   0.33213014   1.77917158 -22.51078177\n",
      "  -12.20074865 -21.46127113 -11.18370514  -8.55418422  -0.32693617\n",
      "   12.30317443 -34.72643603 -13.21819857]]\n",
      "29\n"
     ]
    }
   ],
   "source": [
    "ceps_1 = mfcc(X_1, samplerate=sample_rate_1, nfft=1024)\n",
    "ceps_2 = mfcc(X_2, samplerate=sample_rate_2, nfft=1024)\n",
    "print(ceps_1)\n",
    "print( len(ceps_1))"
   ]
  },
  {
   "cell_type": "code",
   "execution_count": 20,
   "metadata": {},
   "outputs": [
    {
     "data": {
      "image/png": "[encoded data removed]",
      "text/plain": [
       "<matplotlib.figure.Figure at 0x7fb2d9641470>"
      ]
     },
     "metadata": {},
     "output_type": "display_data"
    }
   ],
   "source": [
    "pl.figure(figsize=(15,4))\n",
    "pl.subplot(1,2,1)\n",
    "pl.boxplot(ceps_1)\n",
    "pl.title('X_1')\n",
    "pl.grid()\n",
    "pl.subplot(1,2,2)\n",
    "pl.boxplot(ceps_2)\n",
    "pl.title('X_2')\n",
    "pl.grid()"
   ]
  }
 ],
 "metadata": {
  "kernelspec": {
   "display_name": "Python 3",
   "language": "python",
   "name": "python3"
  },
  "language_info": {
   "codemirror_mode": {
    "name": "ipython",
    "version": 3
   },
   "file_extension": ".py",
   "mimetype": "text/x-python",
   "name": "python",
   "nbconvert_exporter": "python",
   "pygments_lexer": "ipython3",
   "version": "3.6.5"
  }
 },
 "nbformat": 4,
 "nbformat_minor": 1
}
